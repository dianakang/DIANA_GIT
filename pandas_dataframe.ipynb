{
  "nbformat": 4,
  "nbformat_minor": 0,
  "metadata": {
    "colab": {
      "name": "pandas-dataframe.ipynb",
      "provenance": [],
      "collapsed_sections": [],
      "authorship_tag": "ABX9TyPg9M8VmOBusAQi435vnime",
      "include_colab_link": true
    },
    "kernelspec": {
      "name": "python3",
      "display_name": "Python 3"
    }
  },
  "cells": [
    {
      "cell_type": "markdown",
      "metadata": {
        "id": "view-in-github",
        "colab_type": "text"
      },
      "source": [
        "<a href=\"https://colab.research.google.com/github/dianakang/DIANA_GIT/blob/master/pandas_dataframe.ipynb\" target=\"_parent\"><img src=\"https://colab.research.google.com/assets/colab-badge.svg\" alt=\"Open In Colab\"/></a>"
      ]
    },
    {
      "cell_type": "markdown",
      "metadata": {
        "id": "ibAnrpo6BN-Q"
      },
      "source": [
        "# 데이터프레임 생성하기"
      ]
    },
    {
      "cell_type": "code",
      "metadata": {
        "id": "IzIL2n5DucOE"
      },
      "source": [
        "import pandas as pd"
      ],
      "execution_count": 1,
      "outputs": []
    },
    {
      "cell_type": "markdown",
      "metadata": {
        "id": "sZvdY31N4uoB"
      },
      "source": [
        "판다스 데이터프레임을 생성하는 방법은 크게 1. 딕셔너리 사용, 2. 리스트 사용 두 가지로 나뉜다."
      ]
    },
    {
      "cell_type": "markdown",
      "metadata": {
        "id": "6oI0qFKB4sB5"
      },
      "source": [
        "## 1. 딕셔너리 사용"
      ]
    },
    {
      "cell_type": "code",
      "metadata": {
        "id": "q4rXUEh6xDtS"
      },
      "source": [
        "# 딕셔너리를 갖고있는 리스트 생성\n",
        "friend_dict_list = [\n",
        "    {'name':'John', 'age': 25, 'job': 'student'},\n",
        "    {'name':'Nate', 'age': 30, 'job': 'teacher'}\n",
        "]"
      ],
      "execution_count": 2,
      "outputs": []
    },
    {
      "cell_type": "code",
      "metadata": {
        "id": "qEmxKLEFxE2X",
        "colab": {
          "base_uri": "https://localhost:8080/",
          "height": 111
        },
        "outputId": "c29501f2-cbd1-4d3e-f421-8c741288abcf"
      },
      "source": [
        "# 데이터프레임 생성\n",
        "df = pd.DataFrame(friend_dict_list)\n",
        "df.head()"
      ],
      "execution_count": 3,
      "outputs": [
        {
          "output_type": "execute_result",
          "data": {
            "text/html": [
              "<div>\n",
              "<style scoped>\n",
              "    .dataframe tbody tr th:only-of-type {\n",
              "        vertical-align: middle;\n",
              "    }\n",
              "\n",
              "    .dataframe tbody tr th {\n",
              "        vertical-align: top;\n",
              "    }\n",
              "\n",
              "    .dataframe thead th {\n",
              "        text-align: right;\n",
              "    }\n",
              "</style>\n",
              "<table border=\"1\" class=\"dataframe\">\n",
              "  <thead>\n",
              "    <tr style=\"text-align: right;\">\n",
              "      <th></th>\n",
              "      <th>name</th>\n",
              "      <th>age</th>\n",
              "      <th>job</th>\n",
              "    </tr>\n",
              "  </thead>\n",
              "  <tbody>\n",
              "    <tr>\n",
              "      <th>0</th>\n",
              "      <td>John</td>\n",
              "      <td>25</td>\n",
              "      <td>student</td>\n",
              "    </tr>\n",
              "    <tr>\n",
              "      <th>1</th>\n",
              "      <td>Nate</td>\n",
              "      <td>30</td>\n",
              "      <td>teacher</td>\n",
              "    </tr>\n",
              "  </tbody>\n",
              "</table>\n",
              "</div>"
            ],
            "text/plain": [
              "   name  age      job\n",
              "0  John   25  student\n",
              "1  Nate   30  teacher"
            ]
          },
          "metadata": {
            "tags": []
          },
          "execution_count": 3
        }
      ]
    },
    {
      "cell_type": "markdown",
      "metadata": {
        "id": "FzHAnd-1x_FF"
      },
      "source": [
        "but, 딕셔너리의 경우에는 key의 값 순서가 보장되어 있지 않음.\n",
        "해결방법은 크게 2가지로 나뉜다."
      ]
    },
    {
      "cell_type": "code",
      "metadata": {
        "colab": {
          "base_uri": "https://localhost:8080/",
          "height": 111
        },
        "id": "UAO6m2jMxExT",
        "outputId": "3f049b22-d87c-4cab-810c-d0ad14987bec"
      },
      "source": [
        "# 1. 원하는 컬럼 순서대로 지정\n",
        "df = df[['name','age','job']]\n",
        "df.head()"
      ],
      "execution_count": 4,
      "outputs": [
        {
          "output_type": "execute_result",
          "data": {
            "text/html": [
              "<div>\n",
              "<style scoped>\n",
              "    .dataframe tbody tr th:only-of-type {\n",
              "        vertical-align: middle;\n",
              "    }\n",
              "\n",
              "    .dataframe tbody tr th {\n",
              "        vertical-align: top;\n",
              "    }\n",
              "\n",
              "    .dataframe thead th {\n",
              "        text-align: right;\n",
              "    }\n",
              "</style>\n",
              "<table border=\"1\" class=\"dataframe\">\n",
              "  <thead>\n",
              "    <tr style=\"text-align: right;\">\n",
              "      <th></th>\n",
              "      <th>name</th>\n",
              "      <th>age</th>\n",
              "      <th>job</th>\n",
              "    </tr>\n",
              "  </thead>\n",
              "  <tbody>\n",
              "    <tr>\n",
              "      <th>0</th>\n",
              "      <td>John</td>\n",
              "      <td>25</td>\n",
              "      <td>student</td>\n",
              "    </tr>\n",
              "    <tr>\n",
              "      <th>1</th>\n",
              "      <td>Nate</td>\n",
              "      <td>30</td>\n",
              "      <td>teacher</td>\n",
              "    </tr>\n",
              "  </tbody>\n",
              "</table>\n",
              "</div>"
            ],
            "text/plain": [
              "   name  age      job\n",
              "0  John   25  student\n",
              "1  Nate   30  teacher"
            ]
          },
          "metadata": {
            "tags": []
          },
          "execution_count": 4
        }
      ]
    },
    {
      "cell_type": "code",
      "metadata": {
        "id": "QBtmdEOrxEu6",
        "colab": {
          "base_uri": "https://localhost:8080/",
          "height": 111
        },
        "outputId": "fe78697e-8174-4a70-f789-0dc42e25455d"
      },
      "source": [
        "# 2. 파이썬에서 지원하는 OrderedDictionary이용하여 데이터프레임 생성 -> 키의 순서 보장.\n",
        "from collections import OrderedDict\n",
        "friend_ordered_dict = OrderedDict(\n",
        "    [\n",
        "        ('name', ['John', 'Nate']),\n",
        "        ('age', [25, 30]),\n",
        "        ('job', ['student', 'teacher'])\n",
        "    ]\n",
        ")\n",
        "\n",
        "df = pd.DataFrame.from_dict(friend_ordered_dict)\n",
        "df.head()"
      ],
      "execution_count": 5,
      "outputs": [
        {
          "output_type": "execute_result",
          "data": {
            "text/html": [
              "<div>\n",
              "<style scoped>\n",
              "    .dataframe tbody tr th:only-of-type {\n",
              "        vertical-align: middle;\n",
              "    }\n",
              "\n",
              "    .dataframe tbody tr th {\n",
              "        vertical-align: top;\n",
              "    }\n",
              "\n",
              "    .dataframe thead th {\n",
              "        text-align: right;\n",
              "    }\n",
              "</style>\n",
              "<table border=\"1\" class=\"dataframe\">\n",
              "  <thead>\n",
              "    <tr style=\"text-align: right;\">\n",
              "      <th></th>\n",
              "      <th>name</th>\n",
              "      <th>age</th>\n",
              "      <th>job</th>\n",
              "    </tr>\n",
              "  </thead>\n",
              "  <tbody>\n",
              "    <tr>\n",
              "      <th>0</th>\n",
              "      <td>John</td>\n",
              "      <td>25</td>\n",
              "      <td>student</td>\n",
              "    </tr>\n",
              "    <tr>\n",
              "      <th>1</th>\n",
              "      <td>Nate</td>\n",
              "      <td>30</td>\n",
              "      <td>teacher</td>\n",
              "    </tr>\n",
              "  </tbody>\n",
              "</table>\n",
              "</div>"
            ],
            "text/plain": [
              "   name  age      job\n",
              "0  John   25  student\n",
              "1  Nate   30  teacher"
            ]
          },
          "metadata": {
            "tags": []
          },
          "execution_count": 5
        }
      ]
    },
    {
      "cell_type": "markdown",
      "metadata": {
        "id": "DvQ5WEB544ZQ"
      },
      "source": [
        "## 2. 리스트 사용"
      ]
    },
    {
      "cell_type": "markdown",
      "metadata": {
        "id": "jA9Vk4T-6m0c"
      },
      "source": [
        "### 2.1. 첫번째 방법 "
      ]
    },
    {
      "cell_type": "markdown",
      "metadata": {
        "id": "-6iVQANt60P4"
      },
      "source": [
        "컬럼 헤더를 이용하는 방법"
      ]
    },
    {
      "cell_type": "code",
      "metadata": {
        "id": "YdJkBDLyxEsZ"
      },
      "source": [
        "# 리스트 생성\n",
        "friend_list = [\n",
        "    ['John', 20, 'student'],\n",
        "    ['Nate', 30, 'teacher']\n",
        "]"
      ],
      "execution_count": 6,
      "outputs": []
    },
    {
      "cell_type": "code",
      "metadata": {
        "id": "hlEVZe0d5eEA"
      },
      "source": [
        "# 컬럼 헤더 생성\n",
        "column_name = ['name','age','job']"
      ],
      "execution_count": 7,
      "outputs": []
    },
    {
      "cell_type": "code",
      "metadata": {
        "colab": {
          "base_uri": "https://localhost:8080/",
          "height": 111
        },
        "id": "JaeinB0o5eCA",
        "outputId": "b720d388-f0fa-449a-d3ca-93a82095d48d"
      },
      "source": [
        "# 데이터프레임 생성\n",
        "df = pd.DataFrame.from_records(friend_list, columns = column_name)\n",
        "df.head()"
      ],
      "execution_count": 8,
      "outputs": [
        {
          "output_type": "execute_result",
          "data": {
            "text/html": [
              "<div>\n",
              "<style scoped>\n",
              "    .dataframe tbody tr th:only-of-type {\n",
              "        vertical-align: middle;\n",
              "    }\n",
              "\n",
              "    .dataframe tbody tr th {\n",
              "        vertical-align: top;\n",
              "    }\n",
              "\n",
              "    .dataframe thead th {\n",
              "        text-align: right;\n",
              "    }\n",
              "</style>\n",
              "<table border=\"1\" class=\"dataframe\">\n",
              "  <thead>\n",
              "    <tr style=\"text-align: right;\">\n",
              "      <th></th>\n",
              "      <th>name</th>\n",
              "      <th>age</th>\n",
              "      <th>job</th>\n",
              "    </tr>\n",
              "  </thead>\n",
              "  <tbody>\n",
              "    <tr>\n",
              "      <th>0</th>\n",
              "      <td>John</td>\n",
              "      <td>20</td>\n",
              "      <td>student</td>\n",
              "    </tr>\n",
              "    <tr>\n",
              "      <th>1</th>\n",
              "      <td>Nate</td>\n",
              "      <td>30</td>\n",
              "      <td>teacher</td>\n",
              "    </tr>\n",
              "  </tbody>\n",
              "</table>\n",
              "</div>"
            ],
            "text/plain": [
              "   name  age      job\n",
              "0  John   20  student\n",
              "1  Nate   30  teacher"
            ]
          },
          "metadata": {
            "tags": []
          },
          "execution_count": 8
        }
      ]
    },
    {
      "cell_type": "markdown",
      "metadata": {
        "id": "KV_FM3EH6rb7"
      },
      "source": [
        "### 2.2. 두번째 방법"
      ]
    },
    {
      "cell_type": "markdown",
      "metadata": {
        "id": "6sJ5FZcD63Y2"
      },
      "source": [
        "컬럼 헤더를 이용하지 않고 한 번에 만드는 방법"
      ]
    },
    {
      "cell_type": "code",
      "metadata": {
        "id": "uRZ5YZ6E6uyG"
      },
      "source": [
        "# 리스트 생성 - 이중리스트\n",
        "friend_list = [\n",
        "    ['name', ['John', 'Nate']],\n",
        "    ['age', [20,30]],\n",
        "    ['job', ['student','teacher']]\n",
        "]"
      ],
      "execution_count": 12,
      "outputs": []
    },
    {
      "cell_type": "markdown",
      "metadata": {
        "id": "KLYbYlmzA0MV"
      },
      "source": [
        "강의에서 언급해주신 pd.DataFrame.from_items는 버전 0.23.0부터는 더 이상 사용되지 않는다. \n",
        "\n",
        "따라서 pd.DataFrame.from_items(friend_list)대신 아래와 같이 코드를 수정해야한다."
      ]
    },
    {
      "cell_type": "code",
      "metadata": {
        "colab": {
          "base_uri": "https://localhost:8080/",
          "height": 111
        },
        "id": "W-Q4Lq4j6uvt",
        "outputId": "3c92a838-25a5-46ed-9c74-4308e9701c82"
      },
      "source": [
        "# 데이터프레임 생성\n",
        "import collections\n",
        "df = pd.DataFrame.from_dict(collections.OrderedDict(friend_list))\n",
        "df.head()"
      ],
      "execution_count": 14,
      "outputs": [
        {
          "output_type": "execute_result",
          "data": {
            "text/html": [
              "<div>\n",
              "<style scoped>\n",
              "    .dataframe tbody tr th:only-of-type {\n",
              "        vertical-align: middle;\n",
              "    }\n",
              "\n",
              "    .dataframe tbody tr th {\n",
              "        vertical-align: top;\n",
              "    }\n",
              "\n",
              "    .dataframe thead th {\n",
              "        text-align: right;\n",
              "    }\n",
              "</style>\n",
              "<table border=\"1\" class=\"dataframe\">\n",
              "  <thead>\n",
              "    <tr style=\"text-align: right;\">\n",
              "      <th></th>\n",
              "      <th>name</th>\n",
              "      <th>age</th>\n",
              "      <th>job</th>\n",
              "    </tr>\n",
              "  </thead>\n",
              "  <tbody>\n",
              "    <tr>\n",
              "      <th>0</th>\n",
              "      <td>John</td>\n",
              "      <td>20</td>\n",
              "      <td>student</td>\n",
              "    </tr>\n",
              "    <tr>\n",
              "      <th>1</th>\n",
              "      <td>Nate</td>\n",
              "      <td>30</td>\n",
              "      <td>teacher</td>\n",
              "    </tr>\n",
              "  </tbody>\n",
              "</table>\n",
              "</div>"
            ],
            "text/plain": [
              "   name  age      job\n",
              "0  John   20  student\n",
              "1  Nate   30  teacher"
            ]
          },
          "metadata": {
            "tags": []
          },
          "execution_count": 14
        }
      ]
    },
    {
      "cell_type": "code",
      "metadata": {
        "id": "LVb_sKB06us0"
      },
      "source": [
        ""
      ],
      "execution_count": null,
      "outputs": []
    },
    {
      "cell_type": "code",
      "metadata": {
        "id": "VVt7qBEn5d-5"
      },
      "source": [
        ""
      ],
      "execution_count": null,
      "outputs": []
    }
  ]
}